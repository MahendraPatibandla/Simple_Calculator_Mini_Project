{
  "nbformat": 4,
  "nbformat_minor": 0,
  "metadata": {
    "colab": {
      "provenance": []
    },
    "kernelspec": {
      "name": "python3",
      "display_name": "Python 3"
    },
    "language_info": {
      "name": "python"
    }
  },
  "cells": [
    {
      "cell_type": "code",
      "execution_count": 8,
      "metadata": {
        "id": "zzGu18DAdBz2",
        "colab": {
          "base_uri": "https://localhost:8080/"
        },
        "outputId": "95a56574-125e-43cb-a27e-b6951f09d05f"
      },
      "outputs": [
        {
          "output_type": "stream",
          "name": "stdout",
          "text": [
            "Enter 1st number: 45\n",
            "Enter 2nd number: 18\n",
            "Enter Operator: %\n",
            "9\n"
          ]
        }
      ],
      "source": [
        "# Syntax to give the input\n",
        "num1 = int(input(\"Enter 1st number: \"))\n",
        "num2 = int(input(\"Enter 2nd number: \"))\n",
        "operator = str(input(\"Enter Operator: \"))\n",
        "\n",
        "# Calculation part\n",
        "if operator == '+':\n",
        "  print(num1 + num2)\n",
        "if operator == '-':\n",
        "  print(num1 - num2)\n",
        "if operator == '*':\n",
        "  print(num1 * num2)\n",
        "if operator == '/':\n",
        "  if num2 != 0:\n",
        "    print(num1 / num2)\n",
        "  else:\n",
        "    print(\"invalid\")\n",
        "if operator == '%':\n",
        "  print(num1 % num2)"
      ]
    }
  ]
}